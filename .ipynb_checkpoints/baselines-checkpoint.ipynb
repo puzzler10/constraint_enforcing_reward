{
 "cells": [
  {
   "cell_type": "code",
   "execution_count": 2,
   "metadata": {
    "tags": [
     "hide"
    ]
   },
   "outputs": [],
   "source": [
    "%load_ext autoreload\n",
    "%autoreload 2\n",
    "%load_ext line_profiler"
   ]
  },
  {
   "cell_type": "code",
   "execution_count": 3,
   "metadata": {},
   "outputs": [
    {
     "name": "stderr",
     "output_type": "stream",
     "text": [
      "2023-02-07 14:46:48.961097: I tensorflow/core/platform/cpu_feature_guard.cc:193] This TensorFlow binary is optimized with oneAPI Deep Neural Network Library (oneDNN) to use the following CPU instructions in performance-critical operations:  AVX2 AVX512F FMA\n",
      "To enable them in other operations, rebuild TensorFlow with the appropriate compiler flags.\n",
      "2023-02-07 14:46:51.962212: W tensorflow/compiler/xla/stream_executor/platform/default/dso_loader.cc:64] Could not load dynamic library 'libnvinfer.so.7'; dlerror: libnvinfer.so.7: cannot open shared object file: No such file or directory; LD_LIBRARY_PATH: /usr/local/cuda-11.6/lib64:/usr/local/cuda-11.6/extras/CUPTI/lib64:/usr/local/cuda-10.1/lib64:/usr/local/cuda-10.1/extras/CUPTI/lib64:/usr/local/cuda-11.6/lib64:/usr/local/cuda-11.6/extras/CUPTI/lib64:/usr/local/cuda-10.1/lib64:/usr/local/cuda-10.1/extras/CUPTI/lib64:/usr/local/cuda-11.6/lib64:/usr/local/cuda-11.6/extras/CUPTI/lib64:/usr/local/cuda-10.1/lib64:/usr/local/cuda-10.1/extras/CUPTI/lib64::/home/tproth/Programs/miniconda/lib/:/home/tproth/Programs/miniconda/lib/:/home/tproth/Programs/miniconda/lib/\n",
      "2023-02-07 14:46:51.962319: W tensorflow/compiler/xla/stream_executor/platform/default/dso_loader.cc:64] Could not load dynamic library 'libnvinfer_plugin.so.7'; dlerror: libnvinfer_plugin.so.7: cannot open shared object file: No such file or directory; LD_LIBRARY_PATH: /usr/local/cuda-11.6/lib64:/usr/local/cuda-11.6/extras/CUPTI/lib64:/usr/local/cuda-10.1/lib64:/usr/local/cuda-10.1/extras/CUPTI/lib64:/usr/local/cuda-11.6/lib64:/usr/local/cuda-11.6/extras/CUPTI/lib64:/usr/local/cuda-10.1/lib64:/usr/local/cuda-10.1/extras/CUPTI/lib64:/usr/local/cuda-11.6/lib64:/usr/local/cuda-11.6/extras/CUPTI/lib64:/usr/local/cuda-10.1/lib64:/usr/local/cuda-10.1/extras/CUPTI/lib64::/home/tproth/Programs/miniconda/lib/:/home/tproth/Programs/miniconda/lib/:/home/tproth/Programs/miniconda/lib/\n",
      "2023-02-07 14:46:51.962331: W tensorflow/compiler/tf2tensorrt/utils/py_utils.cc:38] TF-TRT Warning: Cannot dlopen some TensorRT libraries. If you would like to use Nvidia GPU with TensorRT, please make sure the missing libraries mentioned above are installed properly.\n",
      "2023-02-07 14:47:04.906962: I tensorflow/compiler/xla/stream_executor/cuda/cuda_gpu_executor.cc:981] successful NUMA node read from SysFS had negative value (-1), but there must be at least one NUMA node, so returning NUMA node zero\n",
      "2023-02-07 14:47:04.947484: I tensorflow/compiler/xla/stream_executor/cuda/cuda_gpu_executor.cc:981] successful NUMA node read from SysFS had negative value (-1), but there must be at least one NUMA node, so returning NUMA node zero\n",
      "2023-02-07 14:47:04.947755: I tensorflow/compiler/xla/stream_executor/cuda/cuda_gpu_executor.cc:981] successful NUMA node read from SysFS had negative value (-1), but there must be at least one NUMA node, so returning NUMA node zero\n"
     ]
    }
   ],
   "source": [
    "import transformers, nltk, pandas as pd, torch, string\n",
    "from datasets import load_dataset, load_from_disk, DatasetDict, ClassLabel\n",
    "from pprint import pprint\n",
    "from datetime import datetime\n",
    "import argparse\n",
    "import functools\n",
    "\n",
    "\n",
    "from textattack import Attack, AttackArgs,Attacker\n",
    "from textattack.models.wrappers import HuggingFaceModelWrapper\n",
    "from textattack.datasets import HuggingFaceDataset\n",
    "from textattack.loggers import CSVLogger # tracks a dataframe for us.\n",
    "from textattack.attack_recipes import AttackRecipe\n",
    "from textattack.search_methods import BeamSearch\n",
    "from textattack.constraints import Constraint\n",
    "from textattack.constraints.pre_transformation import RepeatModification, StopwordModification\n",
    "from textattack.transformations import WordSwapEmbedding, WordSwapMaskedLM\n",
    "from textattack.goal_functions import UntargetedClassification\n",
    "from textattack.metrics.attack_metrics.attack_success_rate import AttackSuccessRate\n",
    "from textattack.metrics.attack_metrics.words_perturbed import WordsPerturbed\n",
    "from textattack.metrics.attack_metrics.attack_queries import AttackQueries\n",
    "from textattack.metrics.quality_metrics.perplexity import Perplexity\n",
    "from textattack.metrics.quality_metrics.use import USEMetric\n",
    "from sentence_transformers.util import pytorch_cos_sim"
   ]
  },
  {
   "cell_type": "code",
   "execution_count": 4,
   "metadata": {},
   "outputs": [],
   "source": [
    "from src.utils import display_all, merge_dicts, append_df_to_csv, set_seed\n",
    "from src.data import prep_dsd_rotten_tomatoes,prep_dsd_simple,prep_dsd_financial\n",
    "from src.config import Config\n",
    "from src.models import _prepare_vm_tokenizer_and_model, get_vm_probs, prepare_models, get_nli_probs\n",
    "from src.baseline_attacks import AttackRecipes, setup_baselines_parser\n",
    "from fastcore.basics import in_jupyter\n",
    "\n",
    "\n",
    "import warnings\n",
    "warnings.filterwarnings(\"ignore\", message=\"FutureWarning: The frame.append method is deprecated\") \n",
    "\n",
    "path_baselines = \"./baselines/\"\n",
    "\n",
    "set_seed(1000)"
   ]
  },
  {
   "cell_type": "code",
   "execution_count": 5,
   "metadata": {
    "code_folding": [],
    "tags": [
     "hide"
    ]
   },
   "outputs": [
    {
     "name": "stdout",
     "output_type": "stream",
     "text": [
      "/data/tproth/travis_release/.conda/envs/constrained_adversarial_reward/lib/python3.10/site-packages/traitlets/traitlets.py:2930: FutureWarning: --TagRemovePreprocessor.remove_cell_tags=['hide'] for containers is deprecated in traitlets 5.0. You can pass `--TagRemovePreprocessor.remove_cell_tags item` ... multiple times to add items to a list.\n",
      "  warn(\n",
      "[NbConvertApp] Converting notebook baselines.ipynb to python\n",
      "[NbConvertApp] Writing 8447 bytes to baselines.py\n"
     ]
    }
   ],
   "source": [
    "!jupyter nbconvert \\\n",
    "    --TagRemovePreprocessor.enabled=True \\\n",
    "    --TagRemovePreprocessor.remove_cell_tags=\"['hide']\" \\\n",
    "    --TemplateExporter.exclude_markdown=True \\\n",
    "    --to python \"baselines.ipynb\""
   ]
  },
  {
   "cell_type": "code",
   "execution_count": 5,
   "metadata": {
    "code_folding": []
   },
   "outputs": [],
   "source": [
    "######### CONFIG (default values) #########\n",
    "param_d = dict(\n",
    "    ds_name = \"financial\",\n",
    "    split='test',\n",
    "    sts_threshold = 0.8,\n",
    "    contradiction_threshold = 0.2,\n",
    "    acceptability_threshold = 0.5,\n",
    "    pp_letter_diff_threshold = 30\n",
    ")\n",
    "###########################################\n",
    "\n",
    "if not in_jupyter():  # override with any script options\n",
    "    parser = setup_baselines_parser()\n",
    "    newargs = vars(parser.parse_args())\n",
    "    for k,v in newargs.items(): \n",
    "        if v is not None: param_d[k] = v"
   ]
  },
  {
   "cell_type": "code",
   "execution_count": 20,
   "metadata": {
    "code_folding": []
   },
   "outputs": [
    {
     "name": "stderr",
     "output_type": "stream",
     "text": [
      "Reusing dataset financial_phrasebank (/data/tproth/.cache/huggingface/datasets/financial_phrasebank/sentences_50agree/1.0.0/550bde12e6c30e2674da973a55f57edde5181d53f5a5a34c1531c53f93b7e141)\n"
     ]
    },
    {
     "data": {
      "application/vnd.jupyter.widget-view+json": {
       "model_id": "b70fa51437bc480d8067dfa303630f79",
       "version_major": 2,
       "version_minor": 0
      },
      "text/plain": [
       "  0%|          | 0/1 [00:00<?, ?it/s]"
      ]
     },
     "metadata": {},
     "output_type": "display_data"
    },
    {
     "name": "stderr",
     "output_type": "stream",
     "text": [
      "Loading cached split indices for dataset at /data/tproth/.cache/huggingface/datasets/financial_phrasebank/sentences_50agree/1.0.0/550bde12e6c30e2674da973a55f57edde5181d53f5a5a34c1531c53f93b7e141/cache-117ab6d5219ec212.arrow and /data/tproth/.cache/huggingface/datasets/financial_phrasebank/sentences_50agree/1.0.0/550bde12e6c30e2674da973a55f57edde5181d53f5a5a34c1531c53f93b7e141/cache-56d3cc2cdf1d3060.arrow\n",
      "Loading cached split indices for dataset at /data/tproth/.cache/huggingface/datasets/financial_phrasebank/sentences_50agree/1.0.0/550bde12e6c30e2674da973a55f57edde5181d53f5a5a34c1531c53f93b7e141/cache-e184a015df2fa54c.arrow and /data/tproth/.cache/huggingface/datasets/financial_phrasebank/sentences_50agree/1.0.0/550bde12e6c30e2674da973a55f57edde5181d53f5a5a34c1531c53f93b7e141/cache-e4e12b9ebcbafb77.arrow\n"
     ]
    },
    {
     "data": {
      "application/vnd.jupyter.widget-view+json": {
       "model_id": "dbde9f8421644c9a8ce5d6918699ca29",
       "version_major": 2,
       "version_minor": 0
      },
      "text/plain": [
       "  0%|          | 0/4 [00:00<?, ?ba/s]"
      ]
     },
     "metadata": {},
     "output_type": "display_data"
    },
    {
     "data": {
      "application/vnd.jupyter.widget-view+json": {
       "model_id": "c46dc99b073449049c1cda426c4ffd0a",
       "version_major": 2,
       "version_minor": 0
      },
      "text/plain": [
       "  0%|          | 0/1 [00:00<?, ?ba/s]"
      ]
     },
     "metadata": {},
     "output_type": "display_data"
    },
    {
     "data": {
      "application/vnd.jupyter.widget-view+json": {
       "model_id": "b03fb0f176014150aaaf87bbe6f6e6d0",
       "version_major": 2,
       "version_minor": 0
      },
      "text/plain": [
       "  0%|          | 0/1 [00:00<?, ?ba/s]"
      ]
     },
     "metadata": {},
     "output_type": "display_data"
    },
    {
     "data": {
      "application/vnd.jupyter.widget-view+json": {
       "model_id": "2edf28a87a194deb907eb4c5db577d9a",
       "version_major": 2,
       "version_minor": 0
      },
      "text/plain": [
       "  0%|          | 0/4 [00:00<?, ?ba/s]"
      ]
     },
     "metadata": {},
     "output_type": "display_data"
    },
    {
     "data": {
      "application/vnd.jupyter.widget-view+json": {
       "model_id": "14c642bb93a64a93bbf9bbde4088ec89",
       "version_major": 2,
       "version_minor": 0
      },
      "text/plain": [
       "  0%|          | 0/1 [00:00<?, ?ba/s]"
      ]
     },
     "metadata": {},
     "output_type": "display_data"
    },
    {
     "data": {
      "application/vnd.jupyter.widget-view+json": {
       "model_id": "eb22bf466b5e421ea135bd07a0af8207",
       "version_major": 2,
       "version_minor": 0
      },
      "text/plain": [
       "  0%|          | 0/1 [00:00<?, ?ba/s]"
      ]
     },
     "metadata": {},
     "output_type": "display_data"
    },
    {
     "data": {
      "application/vnd.jupyter.widget-view+json": {
       "model_id": "0a33908b832d45b28c5d01ab96b0841f",
       "version_major": 2,
       "version_minor": 0
      },
      "text/plain": [
       "  0%|          | 0/4 [00:00<?, ?ba/s]"
      ]
     },
     "metadata": {},
     "output_type": "display_data"
    },
    {
     "data": {
      "application/vnd.jupyter.widget-view+json": {
       "model_id": "36b5ebd763a242de856cfa3761cdaa75",
       "version_major": 2,
       "version_minor": 0
      },
      "text/plain": [
       "  0%|          | 0/1 [00:00<?, ?ba/s]"
      ]
     },
     "metadata": {},
     "output_type": "display_data"
    },
    {
     "data": {
      "application/vnd.jupyter.widget-view+json": {
       "model_id": "27631db1665e40f4811e2395c83e1e68",
       "version_major": 2,
       "version_minor": 0
      },
      "text/plain": [
       "  0%|          | 0/1 [00:00<?, ?ba/s]"
      ]
     },
     "metadata": {},
     "output_type": "display_data"
    },
    {
     "data": {
      "application/vnd.jupyter.widget-view+json": {
       "model_id": "393403b2052d4f7cb77d34923420e182",
       "version_major": 2,
       "version_minor": 0
      },
      "text/plain": [
       "  0%|          | 0/4 [00:00<?, ?ba/s]"
      ]
     },
     "metadata": {},
     "output_type": "display_data"
    },
    {
     "data": {
      "application/vnd.jupyter.widget-view+json": {
       "model_id": "6cc1e894d9754f07a8a99e6342fae6fd",
       "version_major": 2,
       "version_minor": 0
      },
      "text/plain": [
       "  0%|          | 0/1 [00:00<?, ?ba/s]"
      ]
     },
     "metadata": {},
     "output_type": "display_data"
    },
    {
     "data": {
      "application/vnd.jupyter.widget-view+json": {
       "model_id": "5ab0d4e26e5246deb586fab25533b838",
       "version_major": 2,
       "version_minor": 0
      },
      "text/plain": [
       "  0%|          | 0/1 [00:00<?, ?ba/s]"
      ]
     },
     "metadata": {},
     "output_type": "display_data"
    },
    {
     "data": {
      "application/vnd.jupyter.widget-view+json": {
       "model_id": "7e3d3b7c0986462bab6882baf6d7f527",
       "version_major": 2,
       "version_minor": 0
      },
      "text/plain": [
       "  0%|          | 0/4 [00:00<?, ?ba/s]"
      ]
     },
     "metadata": {},
     "output_type": "display_data"
    },
    {
     "data": {
      "application/vnd.jupyter.widget-view+json": {
       "model_id": "6ee293cf2fda418e9cae62a6ffed79ad",
       "version_major": 2,
       "version_minor": 0
      },
      "text/plain": [
       "  0%|          | 0/1 [00:00<?, ?ba/s]"
      ]
     },
     "metadata": {},
     "output_type": "display_data"
    },
    {
     "data": {
      "application/vnd.jupyter.widget-view+json": {
       "model_id": "d418d08e9fae4f60a573317421da6e58",
       "version_major": 2,
       "version_minor": 0
      },
      "text/plain": [
       "  0%|          | 0/1 [00:00<?, ?ba/s]"
      ]
     },
     "metadata": {},
     "output_type": "display_data"
    },
    {
     "data": {
      "application/vnd.jupyter.widget-view+json": {
       "model_id": "0443bdd60e96405cbb862d37adc212cc",
       "version_major": 2,
       "version_minor": 0
      },
      "text/plain": [
       "  0%|          | 0/4 [00:00<?, ?ba/s]"
      ]
     },
     "metadata": {},
     "output_type": "display_data"
    },
    {
     "data": {
      "application/vnd.jupyter.widget-view+json": {
       "model_id": "6078c1dbd20d4520977b348a32ff47ff",
       "version_major": 2,
       "version_minor": 0
      },
      "text/plain": [
       "  0%|          | 0/1 [00:00<?, ?ba/s]"
      ]
     },
     "metadata": {},
     "output_type": "display_data"
    },
    {
     "data": {
      "application/vnd.jupyter.widget-view+json": {
       "model_id": "24a66f04e86248c2a190746f39904378",
       "version_major": 2,
       "version_minor": 0
      },
      "text/plain": [
       "  0%|          | 0/1 [00:00<?, ?ba/s]"
      ]
     },
     "metadata": {},
     "output_type": "display_data"
    },
    {
     "data": {
      "application/vnd.jupyter.widget-view+json": {
       "model_id": "1688897b4566463ca62f28789a36d98a",
       "version_major": 2,
       "version_minor": 0
      },
      "text/plain": [
       "  0%|          | 0/4 [00:00<?, ?ba/s]"
      ]
     },
     "metadata": {},
     "output_type": "display_data"
    },
    {
     "data": {
      "application/vnd.jupyter.widget-view+json": {
       "model_id": "65aef4ec0f5a4694b9598bfb57180cc1",
       "version_major": 2,
       "version_minor": 0
      },
      "text/plain": [
       "  0%|          | 0/1 [00:00<?, ?ba/s]"
      ]
     },
     "metadata": {},
     "output_type": "display_data"
    },
    {
     "data": {
      "application/vnd.jupyter.widget-view+json": {
       "model_id": "b59e2ba2f82b4f07ab24d871c0124430",
       "version_major": 2,
       "version_minor": 0
      },
      "text/plain": [
       "  0%|          | 0/1 [00:00<?, ?ba/s]"
      ]
     },
     "metadata": {},
     "output_type": "display_data"
    },
    {
     "data": {
      "application/vnd.jupyter.widget-view+json": {
       "model_id": "dabade9af90e4b98bd052b518c449002",
       "version_major": 2,
       "version_minor": 0
      },
      "text/plain": [
       "  0%|          | 0/4 [00:00<?, ?ba/s]"
      ]
     },
     "metadata": {},
     "output_type": "display_data"
    },
    {
     "data": {
      "application/vnd.jupyter.widget-view+json": {
       "model_id": "b0ee558e3210489fa8546bddafcd4100",
       "version_major": 2,
       "version_minor": 0
      },
      "text/plain": [
       "  0%|          | 0/1 [00:00<?, ?ba/s]"
      ]
     },
     "metadata": {},
     "output_type": "display_data"
    },
    {
     "data": {
      "application/vnd.jupyter.widget-view+json": {
       "model_id": "ed5472683c1a4b1aa5f3a2b41db77d33",
       "version_major": 2,
       "version_minor": 0
      },
      "text/plain": [
       "  0%|          | 0/1 [00:00<?, ?ba/s]"
      ]
     },
     "metadata": {},
     "output_type": "display_data"
    },
    {
     "data": {
      "application/vnd.jupyter.widget-view+json": {
       "model_id": "ecfc2377cf0b4157887640ba22a0610f",
       "version_major": 2,
       "version_minor": 0
      },
      "text/plain": [
       "  0%|          | 0/2 [00:00<?, ?ba/s]"
      ]
     },
     "metadata": {},
     "output_type": "display_data"
    },
    {
     "data": {
      "application/vnd.jupyter.widget-view+json": {
       "model_id": "1846c56ec64d425a8958e90f0789b003",
       "version_major": 2,
       "version_minor": 0
      },
      "text/plain": [
       "  0%|          | 0/1 [00:00<?, ?ba/s]"
      ]
     },
     "metadata": {},
     "output_type": "display_data"
    },
    {
     "data": {
      "application/vnd.jupyter.widget-view+json": {
       "model_id": "f0844b6466a3497dbf1ef53e865c370c",
       "version_major": 2,
       "version_minor": 0
      },
      "text/plain": [
       "  0%|          | 0/1 [00:00<?, ?ba/s]"
      ]
     },
     "metadata": {},
     "output_type": "display_data"
    },
    {
     "data": {
      "application/vnd.jupyter.widget-view+json": {
       "model_id": "08b0f30339084e1c9267229c72d17e50",
       "version_major": 2,
       "version_minor": 0
      },
      "text/plain": [
       "Flattening the indices:   0%|          | 0/2 [00:00<?, ?ba/s]"
      ]
     },
     "metadata": {},
     "output_type": "display_data"
    },
    {
     "data": {
      "application/vnd.jupyter.widget-view+json": {
       "model_id": "93c1fd4538504fd7bab87ef54861a998",
       "version_major": 2,
       "version_minor": 0
      },
      "text/plain": [
       "Flattening the indices:   0%|          | 0/1 [00:00<?, ?ba/s]"
      ]
     },
     "metadata": {},
     "output_type": "display_data"
    },
    {
     "data": {
      "application/vnd.jupyter.widget-view+json": {
       "model_id": "e42dd3dc9edb49ea88db047580cfb6e7",
       "version_major": 2,
       "version_minor": 0
      },
      "text/plain": [
       "Flattening the indices:   0%|          | 0/1 [00:00<?, ?ba/s]"
      ]
     },
     "metadata": {},
     "output_type": "display_data"
    },
    {
     "data": {
      "application/vnd.jupyter.widget-view+json": {
       "model_id": "668281fc5a2641aaaf51acb169c1e326",
       "version_major": 2,
       "version_minor": 0
      },
      "text/plain": [
       "Flattening the indices:   0%|          | 0/2 [00:00<?, ?ba/s]"
      ]
     },
     "metadata": {},
     "output_type": "display_data"
    },
    {
     "data": {
      "application/vnd.jupyter.widget-view+json": {
       "model_id": "2e0c05b0514d4f07bffaed9aec97220c",
       "version_major": 2,
       "version_minor": 0
      },
      "text/plain": [
       "Flattening the indices:   0%|          | 0/1 [00:00<?, ?ba/s]"
      ]
     },
     "metadata": {},
     "output_type": "display_data"
    },
    {
     "data": {
      "application/vnd.jupyter.widget-view+json": {
       "model_id": "bea32f6dc5a84df68c16ab7b4ee9021a",
       "version_major": 2,
       "version_minor": 0
      },
      "text/plain": [
       "Flattening the indices:   0%|          | 0/1 [00:00<?, ?ba/s]"
      ]
     },
     "metadata": {},
     "output_type": "display_data"
    },
    {
     "name": "stderr",
     "output_type": "stream",
     "text": [
      "textattack: Unknown if model of class <class 'transformers.models.roberta.modeling_roberta.RobertaForSequenceClassification'> compatible with goal function <class 'textattack.goal_functions.classification.untargeted_classification.UntargetedClassification'>.\n",
      "If you want to use `RobertaLMHeadModel` as a standalone, add `is_decoder=True.`\n",
      "If you want to use `RobertaLMHeadModel` as a standalone, add `is_decoder=True.`\n",
      "Some weights of the model checkpoint at bert-base-uncased were not used when initializing BertForMaskedLM: ['cls.seq_relationship.bias', 'cls.seq_relationship.weight']\n",
      "- This IS expected if you are initializing BertForMaskedLM from the checkpoint of a model trained on another task or with another architecture (e.g. initializing a BertForSequenceClassification model from a BertForPreTraining model).\n",
      "- This IS NOT expected if you are initializing BertForMaskedLM from the checkpoint of a model that you expect to be exactly identical (initializing a BertForSequenceClassification model from a BertForSequenceClassification model).\n"
     ]
    }
   ],
   "source": [
    "### Common attack components\n",
    "attack_recipes = AttackRecipes(param_d)\n",
    "attack_list = attack_recipes.get_attack_list()"
   ]
  },
  {
   "cell_type": "markdown",
   "metadata": {},
   "source": [
    "## Attack "
   ]
  },
  {
   "cell_type": "code",
   "execution_count": 23,
   "metadata": {},
   "outputs": [],
   "source": [
    "attack_list = [o for o in attack_list if o[\"attack_code\"] in [\"TextFooler\", \"CLARE\", \"BAE-R\"]]"
   ]
  },
  {
   "cell_type": "code",
   "execution_count": 18,
   "metadata": {},
   "outputs": [
    {
     "name": "stderr",
     "output_type": "stream",
     "text": [
      "textattack: Logging to CSV at path ./baselines/2023-02-07_135156_financial_test_BAE-R.csv\n"
     ]
    },
    {
     "name": "stdout",
     "output_type": "stream",
     "text": [
      "Now doing attack recipe number 10 with code BAE-R\n",
      "Attack(\n",
      "  (search_method): GreedyWordSwapWIR(\n",
      "    (wir_method):  delete\n",
      "  )\n",
      "  (goal_function):  UntargetedClassification\n",
      "  (transformation):  WordSwapMaskedLM(\n",
      "    (method):  bae\n",
      "    (masked_lm_name):  BertForMaskedLM\n",
      "    (max_length):  512\n",
      "    (max_candidates):  50\n",
      "    (min_confidence):  0.0\n",
      "  )\n",
      "  (constraints): \n",
      "    (0): StsScoreConstraint(\n",
      "        (compare_against_original):  True\n",
      "      )\n",
      "    (1): ContradictionScoreConstraint(\n",
      "        (compare_against_original):  True\n",
      "      )\n",
      "    (2): AcceptabilityScoreConstraint(\n",
      "        (compare_against_original):  True\n",
      "      )\n",
      "    (3): PpLetterDiffConstraint(\n",
      "        (compare_against_original):  True\n",
      "      )\n",
      "    (4): LCPConstraint(\n",
      "        (compare_against_original):  True\n",
      "      )\n",
      "    (5): RepeatModification\n",
      "    (6): StopwordModification\n",
      "  (is_black_box):  True\n",
      ") \n",
      "\n"
     ]
    },
    {
     "name": "stderr",
     "output_type": "stream",
     "text": [
      "\n",
      "  0%|                                                                                  | 0/4 [00:00<?, ?it/s]\u001b[Atextattack: CSVLogger exiting without calling flush().\n",
      "\n",
      " 25%|██████████████████▌                                                       | 1/4 [00:04<00:13,  4.61s/it]\u001b[A\n",
      "[Succeeded / Failed / Skipped / Total] 0 / 1 / 0 / 1:  25%|█████               | 1/4 [00:04<00:13,  4.62s/it]\u001b[A\n",
      "[Succeeded / Failed / Skipped / Total] 0 / 1 / 0 / 1:  50%|██████████          | 2/4 [00:09<00:09,  4.65s/it]\u001b[A\n",
      "[Succeeded / Failed / Skipped / Total] 0 / 2 / 0 / 2:  50%|██████████          | 2/4 [00:09<00:09,  4.66s/it]\u001b[A\n",
      "[Succeeded / Failed / Skipped / Total] 0 / 2 / 0 / 2:  75%|███████████████     | 3/4 [00:15<00:05,  5.16s/it]\u001b[A\n",
      "[Succeeded / Failed / Skipped / Total] 1 / 2 / 0 / 3:  75%|███████████████     | 3/4 [00:15<00:05,  5.16s/it]\u001b[A\n",
      "[Succeeded / Failed / Skipped / Total] 1 / 2 / 0 / 3: 100%|████████████████████| 4/4 [00:16<00:00,  4.02s/it]\u001b[A\n",
      "[Succeeded / Failed / Skipped / Total] 2 / 2 / 0 / 4: 100%|████████████████████| 4/4 [00:16<00:00,  4.02s/it]\u001b[A\n"
     ]
    },
    {
     "name": "stdout",
     "output_type": "stream",
     "text": [
      "\n",
      "+-------------------------------+--------+\n",
      "| Attack Results                |        |\n",
      "+-------------------------------+--------+\n",
      "| Number of successful attacks: | 2      |\n",
      "| Number of failed attacks:     | 2      |\n",
      "| Number of skipped attacks:    | 0      |\n",
      "| Original accuracy:            | 100.0% |\n",
      "| Accuracy under attack:        | 50.0%  |\n",
      "| Attack success rate:          | 50.0%  |\n",
      "| Average perturbed word %:     | 14.32% |\n",
      "| Average num. words per input: | 16.5   |\n",
      "| Avg num queries:              | 66.0   |\n",
      "| Average Original Perplexity:  | 129.14 |\n",
      "| Average Attack Perplexity:    | 169.11 |\n",
      "| Average Attack USE Score:     | 0.82   |\n",
      "+-------------------------------+--------+\n"
     ]
    }
   ],
   "source": [
    "hf_dataset = HuggingFaceDataset(attack_recipes.ds.dsd_raw[param_d['split']], dataset_columns=(['text'], 'label'))\n",
    "for attack_json in attack_list:\n",
    "    print(f\"######################################## attack_json['attack_code'] ######################################## \")\n",
    "    print(\"Now doing attack recipe number\", attack_json['attack_num'], \"with code\", attack_json['attack_code'])\n",
    "    datetime_now = datetime.now().strftime(\"%Y-%m-%d_%H%M%S\")\n",
    "    param_d['datetime'] =  datetime_now\n",
    "    param_d['attack_num'] = attack_json['attack_num']\n",
    "    param_d['attack_code'] = attack_json['attack_code']\n",
    "    filename = f\"{path_baselines}{datetime_now}_{param_d['ds_name']}_{param_d['split']}_{attack_json['attack_code']}.csv\"\n",
    "    attack_args = AttackArgs(num_examples=-1, enable_advance_metrics=True,\n",
    "                            log_to_csv=filename, csv_coloring_style='plain', disable_stdout=True)\n",
    "    attacker = Attacker(attack_json['attack_recipe'], hf_dataset, attack_args)\n",
    "\n",
    "    # print(\"Current config for attack:\")\n",
    "    # print(d)\n",
    "\n",
    "    attack_results = attacker.attack_dataset()\n",
    "\n",
    "    attack_result_metrics = {\n",
    "        **AttackSuccessRate().calculate(attack_results), \n",
    "        **WordsPerturbed().calculate(attack_results),\n",
    "        **AttackQueries().calculate(attack_results),\n",
    "        **Perplexity().calculate(attack_results),\n",
    "        **USEMetric().calculate(attack_results)\n",
    "    }\n",
    "    attack_result_metrics.pop('num_words_changed_until_success')\n",
    "    d = merge_dicts(param_d, attack_result_metrics)\n",
    "    summary_df = pd.Series(d).to_frame().T\n",
    "    append_df_to_csv(summary_df, f\"{path_baselines}results.csv\")"
   ]
  },
  {
   "cell_type": "markdown",
   "metadata": {},
   "source": [
    "## Example-specific metrics "
   ]
  },
  {
   "cell_type": "code",
   "execution_count": 19,
   "metadata": {
    "code_folding": []
   },
   "outputs": [],
   "source": [
    "def display_adv_example(df): \n",
    "    from IPython.core.display import display, HTML\n",
    "    pd.options.display.max_colwidth = 480 # increase column width so we can actually read the examples\n",
    "    #display(HTML(df[['original_text', 'perturbed_text']].to_html(escape=False)))\n",
    "    display(df[['original_text', 'perturbed_text']])\n",
    "\n",
    "# def add_vm_score_and_label_flip(df, dataset, cfg, vm_tokenizer, vm_model): \n",
    "#     truelabels = torch.tensor(dataset._dataset['label'], device =cfg.device)\n",
    "#     orig_probs =  get_vm_probs(df['original_text'].tolist(), cfg, vm_tokenizer, vm_model, return_predclass=False)\n",
    "#     pp_probs = get_vm_probs(df['perturbed_text'].tolist(), cfg, vm_tokenizer, vm_model, return_predclass=False)\n",
    "#     orig_predclass = torch.argmax(orig_probs, axis=1)\n",
    "#     pp_predclass = torch.argmax(pp_probs, axis=1)\n",
    "#     orig_truelabel_probs = torch.gather(orig_probs, 1, truelabels[:,None]).squeeze()\n",
    "#     pp_truelabel_probs   = torch.gather(pp_probs, 1,   truelabels[:,None]).squeeze()\n",
    "#     pp_predclass_probs   = torch.gather(pp_probs, 1,   pp_predclass[ :,None]).squeeze()\n",
    "    \n",
    "#     df['truelabel'] = truelabels.cpu().tolist()\n",
    "#     df['orig_predclass'] = orig_predclass.cpu().tolist()\n",
    "#     df['pp_predclass'] = pp_predclass.cpu().tolist()\n",
    "#     df['orig_truelabel_probs'] = orig_truelabel_probs.cpu().tolist()\n",
    "#     df['pp_truelabel_probs'] = pp_truelabel_probs.cpu().tolist()\n",
    "#     df['vm_scores'] = (orig_truelabel_probs - pp_truelabel_probs).cpu().tolist()\n",
    "#     df['label_flip'] = ((pp_predclass != truelabels) * 1).cpu().tolist()\n",
    "#     return df\n",
    "\n",
    "# def add_sts_score(df, sts_model, cfg): \n",
    "#     orig_embeddings  = sts_model.encode(df['original_text'].tolist(),  convert_to_tensor=True, device=cfg.device)\n",
    "#     pp_embeddings    = sts_model.encode(df['perturbed_text'].tolist(), convert_to_tensor=True, device=cfg.device)\n",
    "#     df['sts_scores'] = pytorch_cos_sim(orig_embeddings, pp_embeddings).diagonal().cpu().tolist()\n",
    "#     return df\n",
    "\n",
    "# def add_contradiction_score(df, cfg, nli_tokenizer, nli_model): \n",
    "#     contradiction_scores = get_nli_probs(df['original_text'].tolist(), df['perturbed_text'].tolist(), cfg, nli_tokenizer, nli_model)\n",
    "#     df['contradiction_scores'] =  contradiction_scores[:,cfg.contra_label].cpu().tolist()\n",
    "#     return df \n",
    "\n",
    "# def get_df_mean_cols(df): \n",
    "#     cols = ['label_flip', 'vm_scores', 'sts_scores',\n",
    "#             'contradiction_scores', 'sts_threshold_met', 'contradiction_threshold_met']\n",
    "#     s = df[cols].mean()\n",
    "#     s.index = [f\"{o}_mean\" for o in s.index]\n",
    "#     return dict(s)\n",
    "\n",
    "# def get_cts_summary_stats(df): \n",
    "#     cols = ['vm_scores', 'sts_scores', 'contradiction_scores']\n",
    "#     df_summary = df[cols].describe(percentiles=[.1,.25,.5,.75,.9]).loc[['std','10%','25%','50%','75%','90%']]\n",
    "#     tmp_d = dict()\n",
    "#     for c in cols: \n",
    "#         s = df_summary[c]\n",
    "#         s.index = [f\"{c}_{o}\" for o in s.index]\n",
    "#         tmp_d = merge_dicts(tmp_d, dict(s))\n",
    "#     return tmp_d\n"
   ]
  },
  {
   "cell_type": "code",
   "execution_count": null,
   "metadata": {},
   "outputs": [],
   "source": [
    "#filename1 = f\"/data/tproth/travis_attack/baselines/2022-04-21_044443_rotten_tomatoes_valid_BeamSearchLMAttack_beam_sz=2_max_candidates=5.csv\"\n",
    "#filename = filename1\n",
    "df = pd.read_csv(filename)\n",
    "#display_adv_example(df)\n",
    "\n",
    "#df = add_vm_score_and_label_flip(df, dataset, cfg, vm_tokenizer, vm_model)\n",
    "#df = df.query(\"result_type != 'Skipped'\")\n",
    "#df = add_sts_score(df, sts_model, cfg)\n",
    "#df = add_contradiction_score(df, cfg, nli_tokenizer, nli_model)\n",
    "\n",
    "#df['sts_threshold_met'] = df['sts_scores'] > d['sts_threshold']\n",
    "#df['contradiction_threshold_met'] = df['contradiction_scores'] < d['contradiction_threshold']\n",
    "#df.to_csv(f\"{filename[:-4]}_processed.csv\", index=False)\n",
    "\n",
    "#d = merge_dicts(d, get_df_mean_cols(df))\n",
    "#d = merge_dicts(d, get_cts_summary_stats(df))\n",
    "\n"
   ]
  },
  {
   "cell_type": "markdown",
   "metadata": {},
   "source": [
    "## Old code "
   ]
  },
  {
   "cell_type": "code",
   "execution_count": null,
   "metadata": {},
   "outputs": [],
   "source": [
    "# df1 = df.sample(5)\n",
    "# orig_l = df1['original_text'].tolist()\n",
    "# pp_l = df1['perturbed_text'].tolist()\n",
    "# print(orig_l)\n",
    "# print(pp_l)"
   ]
  },
  {
   "cell_type": "code",
   "execution_count": null,
   "metadata": {
    "scrolled": true
   },
   "outputs": [],
   "source": [
    "# for orig, adv in zip(df1['original_text'].tolist(), df1['perturbed_text'].tolist()): \n",
    "#     print(f\"{orig}{adv}\")\n",
    "#     print()"
   ]
  },
  {
   "cell_type": "code",
   "execution_count": null,
   "metadata": {},
   "outputs": [],
   "source": [
    "#df.iloc[104][['original_text', 'perturbed_text']].values"
   ]
  },
  {
   "cell_type": "code",
   "execution_count": null,
   "metadata": {},
   "outputs": [],
   "source": [
    "#filename1 = f\"/data/tproth/travis_attack/baselines/2022-04-20_133329_rotten_tomatoes_valid_BeamSearchCFEmbeddingAttack_beam_sz=1_max_candidates=1_processed.csv\"\n",
    "#df = pd.read_csv(filename1)\n",
    "#display_all(df.sample(2))"
   ]
  },
  {
   "cell_type": "code",
   "execution_count": null,
   "metadata": {},
   "outputs": [],
   "source": [
    "#df_results = pd.read_csv(f\"/data/tproth/travis_attack/baselines/results.csv\")"
   ]
  },
  {
   "cell_type": "code",
   "execution_count": null,
   "metadata": {},
   "outputs": [],
   "source": []
  }
 ],
 "metadata": {
  "kernelspec": {
   "display_name": "Python 3 (ipykernel)",
   "language": "python",
   "name": "python3"
  },
  "language_info": {
   "codemirror_mode": {
    "name": "ipython",
    "version": 3
   },
   "file_extension": ".py",
   "mimetype": "text/x-python",
   "name": "python",
   "nbconvert_exporter": "python",
   "pygments_lexer": "ipython3",
   "version": "3.10.9"
  },
  "toc": {
   "base_numbering": 1,
   "nav_menu": {},
   "number_sections": true,
   "sideBar": true,
   "skip_h1_title": false,
   "title_cell": "Table of Contents",
   "title_sidebar": "Contents",
   "toc_cell": false,
   "toc_position": {},
   "toc_section_display": true,
   "toc_window_display": false
  }
 },
 "nbformat": 4,
 "nbformat_minor": 4
}
